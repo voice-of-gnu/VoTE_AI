{
 "cells": [
  {
   "cell_type": "code",
   "execution_count": 1,
   "metadata": {},
   "outputs": [],
   "source": [
    "from __future__ import division, print_function\n",
    "\n",
    "import sys\n",
    "import os\n",
    "os.environ[\"CUDA_VISIBLE_DEVICES\"] = \"0\"\n",
    "import numpy as np\n",
    "import resampy\n",
    "import soundfile as sf\n",
    "import tensorflow as tf\n",
    "from tensorflow.keras import Model, layers, optimizers\n",
    "\n",
    "\n",
    "import params as yamnet_params\n",
    "import yamnet as yamnet_model\n",
    "import features as features_lib\n",
    "from random import shuffle\n",
    "\n",
    "import librosa\n",
    "import json\n",
    "import glob\n",
    "\n",
    "from tqdm import tqdm\n"
   ]
  },
  {
   "cell_type": "code",
   "execution_count": 2,
   "metadata": {},
   "outputs": [
    {
     "name": "stdout",
     "output_type": "stream",
     "text": [
      "TensorFlow version: 2.10.0\n"
     ]
    },
    {
     "data": {
      "text/plain": [
       "[PhysicalDevice(name='/physical_device:GPU:0', device_type='GPU')]"
      ]
     },
     "execution_count": 2,
     "metadata": {},
     "output_type": "execute_result"
    }
   ],
   "source": [
    "print(\"TensorFlow version:\", tf.__version__)\n",
    "tf.config.list_physical_devices('GPU')"
   ]
  },
  {
   "cell_type": "code",
   "execution_count": 3,
   "metadata": {},
   "outputs": [],
   "source": [
    "gpus = tf.config.list_physical_devices('GPU')\n",
    "for gpu in gpus:\n",
    "    tf.config.experimental.set_memory_growth(gpu, True)"
   ]
  },
  {
   "cell_type": "code",
   "execution_count": 4,
   "metadata": {},
   "outputs": [],
   "source": [
    "intense = {\"약함\" : 0.,\"보통\":1.,\"강함\":2.}\n",
    "emotion_enc = {\"기쁨\" : 0, \"사랑스러움\" : 1, \"두려움\" : 2, \"화남\" : 3, \"슬픔\" : 4, \"놀라움\" : 5, \"없음\" : 6}\n",
    "emotion_dec = { 0 : \"기쁨\", 1 : \"사랑스러움\", 2 : \"두려움\", 3 : \"화남\", 4 : \"슬픔\", 5 : \"놀라움\", 6 : \"없음\"}"
   ]
  },
  {
   "cell_type": "code",
   "execution_count": 5,
   "metadata": {},
   "outputs": [],
   "source": [
    "params = yamnet_params.Params()"
   ]
  },
  {
   "cell_type": "code",
   "execution_count": 5,
   "metadata": {},
   "outputs": [],
   "source": [
    "def load_segments_from_json(paths, wav_prefix):\n",
    "    for path in paths:\n",
    "        with open(path, 'r') as f:\n",
    "            data = json.load(f)\n",
    "        sr = int(data['Wav']['SamplingRate'])\n",
    "        tmp_prefix = os.path.join(wav_prefix, \"indoor\" if \"indoor\" in path else \"outdoor\")\n",
    "        wav_name = os.path.join(tmp_prefix, data['File']['FileName'] + \".wav\")\n",
    "        audio, _ = librosa.load(wav_name, sr=sr)\n",
    "        audio_resampled = librosa.resample(audio, orig_sr=sr, target_sr=16000)\n",
    "        #y_emotion_class = []\n",
    "        #y_emotion_intensity = []\n",
    "        #audios = []\n",
    "\n",
    "        for entry in data['Conversation']:\n",
    "            start_time = float(entry['StartTime'].replace(\",\",\"\"))\n",
    "            end_time = float(entry['EndTime'].replace(\",\",\"\"))\n",
    "            emotion_category = emotion_enc[entry['VerifyEmotionTarget']]\n",
    "            emotion_intense = intense[entry['VerifyEmotionLevel']]\n",
    "            start_sample = int(start_time * 16000)\n",
    "            end_sample = int(end_time * 16000)\n",
    "            audio_segment = audio_resampled[start_sample:end_sample]\n",
    "\n",
    "            #audios.append(np.array(audio_segments))\n",
    "            #y_emotion_class.append(emotion_category)\n",
    "            #y_emotion_intensity.append(emotion_level)\n",
    "            print(len(audio_segment), len(audio_segment)/16000, emotion_dec[emotion_category], emotion_intense)\n",
    "            yield np.array(audio_segment), emotion_category, emotion_intense\n",
    "\n",
    "        #return audios, np.array(y_emotion_class), np.array(y_emotion_intensity)"
   ]
  },
  {
   "cell_type": "code",
   "execution_count": 27,
   "metadata": {},
   "outputs": [
    {
     "data": {
      "text/plain": [
       "3569"
      ]
     },
     "execution_count": 27,
     "metadata": {},
     "output_type": "execute_result"
    }
   ],
   "source": [
    "path = \"Y:/emotion/train\"\n",
    "audio_source = \"data\"\n",
    "label_str = \"label\"\n",
    "indoor_ = [\"indoor\", \"outdoor\"] \n",
    "indoor_files = glob.glob(os.path.join(path,label_str,indoor_[0], '*.json'))\n",
    "outdoor_files = glob.glob(os.path.join(path,label_str,indoor_[1], '*.json'))\n",
    "indor_cnt = len(indoor_files)\n",
    "full_data = indoor_files[:indor_cnt//4] + outdoor_files\n",
    "#shuffle(full_data)\n",
    "len(full_data)"
   ]
  },
  {
   "cell_type": "code",
   "execution_count": 6,
   "metadata": {},
   "outputs": [],
   "source": [
    "save_path = \"D:/emotion_split/train\""
   ]
  },
  {
   "cell_type": "code",
   "execution_count": 7,
   "metadata": {},
   "outputs": [
    {
     "ename": "NameError",
     "evalue": "name 'audio_source' is not defined",
     "output_type": "error",
     "traceback": [
      "\u001b[1;31m---------------------------------------------------------------------------\u001b[0m",
      "\u001b[1;31mNameError\u001b[0m                                 Traceback (most recent call last)",
      "Cell \u001b[1;32mIn[7], line 1\u001b[0m\n\u001b[1;32m----> 1\u001b[0m os\u001b[38;5;241m.\u001b[39mmakedirs(os\u001b[38;5;241m.\u001b[39mpath\u001b[38;5;241m.\u001b[39mjoin(save_path, \u001b[43maudio_source\u001b[49m), exist_ok\u001b[38;5;241m=\u001b[39m\u001b[38;5;28;01mTrue\u001b[39;00m)\n\u001b[0;32m      2\u001b[0m os\u001b[38;5;241m.\u001b[39mmakedirs(os\u001b[38;5;241m.\u001b[39mpath\u001b[38;5;241m.\u001b[39mjoin(save_path, label_str), exist_ok\u001b[38;5;241m=\u001b[39m\u001b[38;5;28;01mTrue\u001b[39;00m)\n",
      "\u001b[1;31mNameError\u001b[0m: name 'audio_source' is not defined"
     ]
    }
   ],
   "source": [
    "os.makedirs(os.path.join(save_path, audio_source), exist_ok=True)\n",
    "os.makedirs(os.path.join(save_path, label_str), exist_ok=True)"
   ]
  },
  {
   "cell_type": "code",
   "execution_count": 30,
   "metadata": {},
   "outputs": [
    {
     "name": "stderr",
     "output_type": "stream",
     "text": [
      "100%|██████████| 3569/3569 [42:47:43<00:00, 43.17s/it]    \n"
     ]
    }
   ],
   "source": [
    "for i, p in enumerate(tqdm(full_data)):\n",
    "    with open(p, 'r') as f:\n",
    "        data = json.load(f)\n",
    "    sr = int(data['Wav']['SamplingRate'])\n",
    "    tmp_prefix = os.path.join(os.path.join(path,audio_source), \"indoor\" if \"indoor\" in p else \"outdoor\")\n",
    "    wav_name = os.path.join(tmp_prefix, data['File']['FileName'] + \".wav\")\n",
    "    audio, _ = librosa.load(wav_name, sr=sr)\n",
    "    audio_resampled = librosa.resample(audio, orig_sr=sr, target_sr=16000)\n",
    "    for j, entry in enumerate(data['Conversation']):\n",
    "        start_time = float(entry['StartTime'].replace(\",\",\"\"))\n",
    "        end_time = float(entry['EndTime'].replace(\",\",\"\"))\n",
    "        emotion_category = emotion_enc[entry['VerifyEmotionTarget']]\n",
    "        emotion_intense = intense[entry['VerifyEmotionLevel']]\n",
    "        text = entry['Text']\n",
    "        start_sample = int(start_time * 16000)\n",
    "        end_sample = int(end_time * 16000)\n",
    "        audio_segment = audio_resampled[start_sample:end_sample]\n",
    "        #audios.append(np.array(audio_segments))\n",
    "        #y_emotion_class.append(emotion_category)\n",
    "        #y_emotion_intensity.append(emotion_level)\n",
    "        res = {'text' : text, \"emotion_category\" : emotion_category, \"emotion_intense\" : emotion_intense}\n",
    "        sf.write(os.path.join(save_path, audio_source, f\"{i:08}_{j:05}.wav\"), \n",
    "                audio_segment, \n",
    "                16000, \n",
    "                format='WAV')\n",
    "        with open(os.path.join(save_path, label_str, f'{i:08}_{j:05}.json'), 'w', encoding=\"utf-8\") as f:\n",
    "            json.dump(res, f, ensure_ascii=False, indent=\"\\t\")\n",
    "        #yield np.array(audio_segment), emotion_category, emotion_intense\n",
    "    #return audios, np.array(y_emotion_class), np.array(y_emotion_intensity)"
   ]
  },
  {
   "cell_type": "code",
   "execution_count": 8,
   "metadata": {},
   "outputs": [],
   "source": [
    "def load_split_data_from_json(root_path):\n",
    "    label_path = os.path.join(root_path, \"label\")\n",
    "    data_path = os.path.join(root_path, \"data\")\n",
    "    sr = 16000\n",
    "    json_list = glob.glob(os.path.join(label_path,'*.json'))[:10]\n",
    "    for path in json_list:\n",
    "        with open(path, 'r') as f:\n",
    "            data = json.load(f)\n",
    "        \n",
    "        wav_name = os.path.join(data_path, os.path.basename(path).split(\".\")[0] + \".wav\")\n",
    "        audio, _ = librosa.load(wav_name, sr=sr)\n",
    "\n",
    "        text = data['text']\n",
    "        emotion_category = data[\"emotion_category\"]\n",
    "        emotion_intense = data[\"emotion_intense\"]\n",
    "        \n",
    "        yield np.array(audio), emotion_category, emotion_intense\n",
    "\n",
    "        #return audios, np.array(y_emotion_class), np.array(y_emotion_intensity)"
   ]
  },
  {
   "cell_type": "code",
   "execution_count": 9,
   "metadata": {},
   "outputs": [],
   "source": [
    "train_path = \"D:/emotion_split/train\"\n",
    "#train_data_paths = glob.glob(os.path.join(train_path, \"label\", '*.json'))\n",
    "#len(train_data_paths) #1065311"
   ]
  },
  {
   "cell_type": "code",
   "execution_count": 10,
   "metadata": {},
   "outputs": [],
   "source": [
    "dataset = tf.data.Dataset.from_generator(\n",
    "    lambda: load_split_data_from_json(train_path),\n",
    "    output_signature=(\n",
    "        tf.TensorSpec(shape=(None,), dtype=tf.float32),\n",
    "        tf.TensorSpec(shape=(), dtype=tf.int32),\n",
    "        tf.TensorSpec(shape=(), dtype=tf.float32)\n",
    "    )\n",
    ")"
   ]
  },
  {
   "cell_type": "code",
   "execution_count": 11,
   "metadata": {},
   "outputs": [],
   "source": [
    "def preprocess(audio_segment, emotion_category, emotion_intensity):\n",
    "    waveform_padded = features_lib.pad_waveform(audio_segment, params)\n",
    "    #_, features = features_lib.waveform_to_log_mel_spectrogram_patches(\n",
    "    #    waveform_padded, params)\n",
    "    #num_patches = tf.shape(features)[1]\n",
    "    #tf.print(tf.shape(features))\n",
    "    #emotion_class_repeated = tf.repeat(emotion_category[tf.newaxis], num_patches, axis=0)\n",
    "    #emotion_intensity_repeated = tf.repeat(emotion_intensity[tf.newaxis], num_patches, axis=0)\n",
    "    labels = {\n",
    "        'emotion_class_output': emotion_category,\n",
    "        'emotion_intensity_output': emotion_intensity\n",
    "    }\n",
    "    #tf.print(tf.shape(emotion_class_repeated), len(labels[\"emotion_class_output\"]))\n",
    "    return audio_segment, labels"
   ]
  },
  {
   "cell_type": "code",
   "execution_count": 12,
   "metadata": {},
   "outputs": [],
   "source": [
    "dataset = dataset.map(preprocess, num_parallel_calls=tf.data.experimental.AUTOTUNE)\n",
    "dataset = dataset.shuffle(buffer_size=100)\n",
    "batch_size = 4\n",
    "\n",
    "dataset = dataset.padded_batch(\n",
    "    batch_size,\n",
    "    padded_shapes=([None, ], {'emotion_class_output': [], 'emotion_intensity_output': []}),\n",
    "    padding_values=(0.0, {'emotion_class_output': 0, 'emotion_intensity_output': 0.0})\n",
    ")\n",
    "dataset = dataset.prefetch(tf.data.experimental.AUTOTUNE)"
   ]
  },
  {
   "cell_type": "code",
   "execution_count": 13,
   "metadata": {},
   "outputs": [],
   "source": [
    "def prediction_model(input_shape, num_classes):\n",
    "    \"\"\"Defines the prediction model for emotion classification and intensity regression.\"\"\"\n",
    "    inputs = layers.Input(shape=input_shape)\n",
    "    x = layers.Dense(128, activation='relu')(inputs)\n",
    "    x = layers.Dropout(0.5)(x)\n",
    "    emotion_class_output = layers.Dense(num_classes, activation='softmax', name='emotion_class_output')(x)\n",
    "    emotion_intensity_output = layers.Dense(1, activation='linear', name='emotion_intensity_output')(x)\n",
    "    model = Model(inputs=inputs,  outputs= [emotion_class_output, emotion_intensity_output], name='emotion_recognition_model')\n",
    "    return model"
   ]
  },
  {
   "cell_type": "code",
   "execution_count": 14,
   "metadata": {},
   "outputs": [
    {
     "name": "stdout",
     "output_type": "stream",
     "text": [
      "Successfully loaded weights from yamnet.h5\n",
      "Weights file yamnet.h5 does not exist.\n"
     ]
    }
   ],
   "source": [
    "params = yamnet_params.Params()\n",
    "\n",
    "embedding_model = yamnet_model.yamnet_embedding_model(params, \"yamnet.h5\")\n",
    "\n",
    "for layer in embedding_model.layers:\n",
    "    layer.trainable = False\n",
    "\n",
    "num_classes = len(emotion_enc)\n",
    "prediction_net = prediction_model(input_shape=(1024,), num_classes=num_classes)\n",
    "\n",
    "waveform_input = embedding_model.inputs[0]\n",
    "embeddings = embedding_model.outputs[0]\n",
    "#waveform_input = layers.Input(shape=(None,), dtype=tf.float32, name='waveform_input')\n",
    "#embeddings = embedding_model(waveform_input)\n",
    "predictions = prediction_net(embeddings)\n",
    "\n",
    "model = Model(inputs=waveform_input, outputs={\"emotion_class_output\": predictions[0],\n",
    "             \"emotion_intensity_output\": predictions[1]}, name='emotion_recognition_model')"
   ]
  },
  {
   "cell_type": "code",
   "execution_count": 15,
   "metadata": {},
   "outputs": [],
   "source": [
    "epoch = 5\n",
    "\n",
    "lr_schedule = optimizers.schedules.CosineDecay(\n",
    "    initial_learning_rate=0.01,\n",
    "    decay_steps=epoch\n",
    ")\n",
    "\n",
    "optimizer = optimizers.Adam(lr_schedule)\n",
    "\n",
    "model.compile(\n",
    "    optimizer='adam',#optimizer,\n",
    "    loss={\n",
    "        'emotion_class_output': 'sparse_categorical_crossentropy',\n",
    "        'emotion_intensity_output': 'mean_squared_error'\n",
    "    },\n",
    "    metrics={\n",
    "        'emotion_class_output': 'accuracy',\n",
    "        'emotion_intensity_output': 'mae'\n",
    "    },\n",
    "    run_eagerly=True\n",
    ")"
   ]
  },
  {
   "cell_type": "code",
   "execution_count": 16,
   "metadata": {},
   "outputs": [
    {
     "name": "stdout",
     "output_type": "stream",
     "text": [
      "Model: \"emotion_recognition_model\"\n",
      "__________________________________________________________________________________________________\n",
      " Layer (type)                   Output Shape         Param #     Connected to                     \n",
      "==================================================================================================\n",
      " waveform_input (InputLayer)    [(None,)]            0           []                               \n",
      "                                                                                                  \n",
      " tf.compat.v1.shape (TFOpLambda  (1,)                0           ['waveform_input[0][0]']         \n",
      " )                                                                                                \n",
      "                                                                                                  \n",
      " tf.__operators__.getitem (Slic  ()                  0           ['tf.compat.v1.shape[0][0]']     \n",
      " ingOpLambda)                                                                                     \n",
      "                                                                                                  \n",
      " tf.reshape (TFOpLambda)        (None, None)         0           ['waveform_input[0][0]',         \n",
      "                                                                  'tf.__operators__.getitem[0][0]'\n",
      "                                                                 ]                                \n",
      "                                                                                                  \n",
      " tf.compat.v1.shape_1 (TFOpLamb  (2,)                0           ['tf.reshape[0][0]']             \n",
      " da)                                                                                              \n",
      "                                                                                                  \n",
      " tf.__operators__.getitem_1 (Sl  ()                  0           ['tf.compat.v1.shape_1[0][0]']   \n",
      " icingOpLambda)                                                                                   \n",
      "                                                                                                  \n",
      " tf.math.subtract_1 (TFOpLambda  ()                  0           ['tf.__operators__.getitem_1[0][0\n",
      " )                                                               ]']                              \n",
      "                                                                                                  \n",
      " tf.cast (TFOpLambda)           ()                   0           ['tf.math.subtract_1[0][0]']     \n",
      "                                                                                                  \n",
      " tf.math.truediv (TFOpLambda)   ()                   0           ['tf.cast[0][0]']                \n",
      "                                                                                                  \n",
      " tf.math.ceil (TFOpLambda)      ()                   0           ['tf.math.truediv[0][0]']        \n",
      "                                                                                                  \n",
      " tf.cast_1 (TFOpLambda)         ()                   0           ['tf.math.ceil[0][0]']           \n",
      "                                                                                                  \n",
      " tf.math.subtract (TFOpLambda)  ()                   0           ['tf.__operators__.getitem_1[0][0\n",
      "                                                                 ]']                              \n",
      "                                                                                                  \n",
      " tf.math.multiply (TFOpLambda)  ()                   0           ['tf.cast_1[0][0]']              \n",
      "                                                                                                  \n",
      " tf.math.maximum (TFOpLambda)   ()                   0           ['tf.math.subtract[0][0]']       \n",
      "                                                                                                  \n",
      " tf.math.subtract_2 (TFOpLambda  ()                  0           ['tf.math.multiply[0][0]',       \n",
      " )                                                                'tf.math.subtract_1[0][0]']     \n",
      "                                                                                                  \n",
      " tf.__operators__.add (TFOpLamb  ()                  0           ['tf.math.maximum[0][0]',        \n",
      " da)                                                              'tf.math.subtract_2[0][0]']     \n",
      "                                                                                                  \n",
      " tf.compat.v1.pad (TFOpLambda)  (None, None)         0           ['tf.reshape[0][0]',             \n",
      "                                                                  'tf.__operators__.add[0][0]']   \n",
      "                                                                                                  \n",
      " tf.signal.stft (TFOpLambda)    (None, None, 257)    0           ['tf.compat.v1.pad[0][0]']       \n",
      "                                                                                                  \n",
      " tf.math.abs (TFOpLambda)       (None, None, 257)    0           ['tf.signal.stft[0][0]']         \n",
      "                                                                                                  \n",
      " tf.tensordot (TFOpLambda)      (None, None, 64)     0           ['tf.math.abs[0][0]']            \n",
      "                                                                                                  \n",
      " tf.__operators__.add_1 (TFOpLa  (None, None, 64)    0           ['tf.tensordot[0][0]']           \n",
      " mbda)                                                                                            \n",
      "                                                                                                  \n",
      " tf.math.log (TFOpLambda)       (None, None, 64)     0           ['tf.__operators__.add_1[0][0]'] \n",
      "                                                                                                  \n",
      " tf.signal.frame (TFOpLambda)   (None, None, 96, 64  0           ['tf.math.log[0][0]']            \n",
      "                                )                                                                 \n",
      "                                                                                                  \n",
      " reshape_features (Reshape)     (None, None, 64, 1)  0           ['tf.signal.frame[0][0]']        \n",
      "                                                                                                  \n",
      " layer1/conv (Conv2D)           (None, None, 32, 32  288         ['reshape_features[0][0]']       \n",
      "                                )                                                                 \n",
      "                                                                                                  \n",
      " layer1/conv/bn (BatchNormaliza  (None, None, 32, 32  96         ['layer1/conv[0][0]']            \n",
      " tion)                          )                                                                 \n",
      "                                                                                                  \n",
      " layer1/relu (ReLU)             (None, None, 32, 32  0           ['layer1/conv/bn[0][0]']         \n",
      "                                )                                                                 \n",
      "                                                                                                  \n",
      " layer2/depthwise_conv (Depthwi  (None, None, 32, 32  288        ['layer1/relu[0][0]']            \n",
      " seConv2D)                      )                                                                 \n",
      "                                                                                                  \n",
      " layer2/depthwise_conv/bn (Batc  (None, None, 32, 32  96         ['layer2/depthwise_conv[0][0]']  \n",
      " hNormalization)                )                                                                 \n",
      "                                                                                                  \n",
      " layer2/depthwise_conv/relu (Re  (None, None, 32, 32  0          ['layer2/depthwise_conv/bn[0][0]'\n",
      " LU)                            )                                ]                                \n",
      "                                                                                                  \n",
      " layer2/pointwise_conv (Conv2D)  (None, None, 32, 64  2048       ['layer2/depthwise_conv/relu[0][0\n",
      "                                )                                ]']                              \n",
      "                                                                                                  \n",
      " layer2/pointwise_conv/bn (Batc  (None, None, 32, 64  192        ['layer2/pointwise_conv[0][0]']  \n",
      " hNormalization)                )                                                                 \n",
      "                                                                                                  \n",
      " layer2/pointwise_conv/relu (Re  (None, None, 32, 64  0          ['layer2/pointwise_conv/bn[0][0]'\n",
      " LU)                            )                                ]                                \n",
      "                                                                                                  \n",
      " layer3/depthwise_conv (Depthwi  (None, None, 16, 64  576        ['layer2/pointwise_conv/relu[0][0\n",
      " seConv2D)                      )                                ]']                              \n",
      "                                                                                                  \n",
      " layer3/depthwise_conv/bn (Batc  (None, None, 16, 64  192        ['layer3/depthwise_conv[0][0]']  \n",
      " hNormalization)                )                                                                 \n",
      "                                                                                                  \n",
      " layer3/depthwise_conv/relu (Re  (None, None, 16, 64  0          ['layer3/depthwise_conv/bn[0][0]'\n",
      " LU)                            )                                ]                                \n",
      "                                                                                                  \n",
      " layer3/pointwise_conv (Conv2D)  (None, None, 16, 12  8192       ['layer3/depthwise_conv/relu[0][0\n",
      "                                8)                               ]']                              \n",
      "                                                                                                  \n",
      " layer3/pointwise_conv/bn (Batc  (None, None, 16, 12  384        ['layer3/pointwise_conv[0][0]']  \n",
      " hNormalization)                8)                                                                \n",
      "                                                                                                  \n",
      " layer3/pointwise_conv/relu (Re  (None, None, 16, 12  0          ['layer3/pointwise_conv/bn[0][0]'\n",
      " LU)                            8)                               ]                                \n",
      "                                                                                                  \n",
      " layer4/depthwise_conv (Depthwi  (None, None, 16, 12  1152       ['layer3/pointwise_conv/relu[0][0\n",
      " seConv2D)                      8)                               ]']                              \n",
      "                                                                                                  \n",
      " layer4/depthwise_conv/bn (Batc  (None, None, 16, 12  384        ['layer4/depthwise_conv[0][0]']  \n",
      " hNormalization)                8)                                                                \n",
      "                                                                                                  \n",
      " layer4/depthwise_conv/relu (Re  (None, None, 16, 12  0          ['layer4/depthwise_conv/bn[0][0]'\n",
      " LU)                            8)                               ]                                \n",
      "                                                                                                  \n",
      " layer4/pointwise_conv (Conv2D)  (None, None, 16, 12  16384      ['layer4/depthwise_conv/relu[0][0\n",
      "                                8)                               ]']                              \n",
      "                                                                                                  \n",
      " layer4/pointwise_conv/bn (Batc  (None, None, 16, 12  384        ['layer4/pointwise_conv[0][0]']  \n",
      " hNormalization)                8)                                                                \n",
      "                                                                                                  \n",
      " layer4/pointwise_conv/relu (Re  (None, None, 16, 12  0          ['layer4/pointwise_conv/bn[0][0]'\n",
      " LU)                            8)                               ]                                \n",
      "                                                                                                  \n",
      " layer5/depthwise_conv (Depthwi  (None, None, 8, 128  1152       ['layer4/pointwise_conv/relu[0][0\n",
      " seConv2D)                      )                                ]']                              \n",
      "                                                                                                  \n",
      " layer5/depthwise_conv/bn (Batc  (None, None, 8, 128  384        ['layer5/depthwise_conv[0][0]']  \n",
      " hNormalization)                )                                                                 \n",
      "                                                                                                  \n",
      " layer5/depthwise_conv/relu (Re  (None, None, 8, 128  0          ['layer5/depthwise_conv/bn[0][0]'\n",
      " LU)                            )                                ]                                \n",
      "                                                                                                  \n",
      " layer5/pointwise_conv (Conv2D)  (None, None, 8, 256  32768      ['layer5/depthwise_conv/relu[0][0\n",
      "                                )                                ]']                              \n",
      "                                                                                                  \n",
      " layer5/pointwise_conv/bn (Batc  (None, None, 8, 256  768        ['layer5/pointwise_conv[0][0]']  \n",
      " hNormalization)                )                                                                 \n",
      "                                                                                                  \n",
      " layer5/pointwise_conv/relu (Re  (None, None, 8, 256  0          ['layer5/pointwise_conv/bn[0][0]'\n",
      " LU)                            )                                ]                                \n",
      "                                                                                                  \n",
      " layer6/depthwise_conv (Depthwi  (None, None, 8, 256  2304       ['layer5/pointwise_conv/relu[0][0\n",
      " seConv2D)                      )                                ]']                              \n",
      "                                                                                                  \n",
      " layer6/depthwise_conv/bn (Batc  (None, None, 8, 256  768        ['layer6/depthwise_conv[0][0]']  \n",
      " hNormalization)                )                                                                 \n",
      "                                                                                                  \n",
      " layer6/depthwise_conv/relu (Re  (None, None, 8, 256  0          ['layer6/depthwise_conv/bn[0][0]'\n",
      " LU)                            )                                ]                                \n",
      "                                                                                                  \n",
      " layer6/pointwise_conv (Conv2D)  (None, None, 8, 256  65536      ['layer6/depthwise_conv/relu[0][0\n",
      "                                )                                ]']                              \n",
      "                                                                                                  \n",
      " layer6/pointwise_conv/bn (Batc  (None, None, 8, 256  768        ['layer6/pointwise_conv[0][0]']  \n",
      " hNormalization)                )                                                                 \n",
      "                                                                                                  \n",
      " layer6/pointwise_conv/relu (Re  (None, None, 8, 256  0          ['layer6/pointwise_conv/bn[0][0]'\n",
      " LU)                            )                                ]                                \n",
      "                                                                                                  \n",
      " layer7/depthwise_conv (Depthwi  (None, None, 4, 256  2304       ['layer6/pointwise_conv/relu[0][0\n",
      " seConv2D)                      )                                ]']                              \n",
      "                                                                                                  \n",
      " layer7/depthwise_conv/bn (Batc  (None, None, 4, 256  768        ['layer7/depthwise_conv[0][0]']  \n",
      " hNormalization)                )                                                                 \n",
      "                                                                                                  \n",
      " layer7/depthwise_conv/relu (Re  (None, None, 4, 256  0          ['layer7/depthwise_conv/bn[0][0]'\n",
      " LU)                            )                                ]                                \n",
      "                                                                                                  \n",
      " layer7/pointwise_conv (Conv2D)  (None, None, 4, 512  131072     ['layer7/depthwise_conv/relu[0][0\n",
      "                                )                                ]']                              \n",
      "                                                                                                  \n",
      " layer7/pointwise_conv/bn (Batc  (None, None, 4, 512  1536       ['layer7/pointwise_conv[0][0]']  \n",
      " hNormalization)                )                                                                 \n",
      "                                                                                                  \n",
      " layer7/pointwise_conv/relu (Re  (None, None, 4, 512  0          ['layer7/pointwise_conv/bn[0][0]'\n",
      " LU)                            )                                ]                                \n",
      "                                                                                                  \n",
      " layer8/depthwise_conv (Depthwi  (None, None, 4, 512  4608       ['layer7/pointwise_conv/relu[0][0\n",
      " seConv2D)                      )                                ]']                              \n",
      "                                                                                                  \n",
      " layer8/depthwise_conv/bn (Batc  (None, None, 4, 512  1536       ['layer8/depthwise_conv[0][0]']  \n",
      " hNormalization)                )                                                                 \n",
      "                                                                                                  \n",
      " layer8/depthwise_conv/relu (Re  (None, None, 4, 512  0          ['layer8/depthwise_conv/bn[0][0]'\n",
      " LU)                            )                                ]                                \n",
      "                                                                                                  \n",
      " layer8/pointwise_conv (Conv2D)  (None, None, 4, 512  262144     ['layer8/depthwise_conv/relu[0][0\n",
      "                                )                                ]']                              \n",
      "                                                                                                  \n",
      " layer8/pointwise_conv/bn (Batc  (None, None, 4, 512  1536       ['layer8/pointwise_conv[0][0]']  \n",
      " hNormalization)                )                                                                 \n",
      "                                                                                                  \n",
      " layer8/pointwise_conv/relu (Re  (None, None, 4, 512  0          ['layer8/pointwise_conv/bn[0][0]'\n",
      " LU)                            )                                ]                                \n",
      "                                                                                                  \n",
      " layer9/depthwise_conv (Depthwi  (None, None, 4, 512  4608       ['layer8/pointwise_conv/relu[0][0\n",
      " seConv2D)                      )                                ]']                              \n",
      "                                                                                                  \n",
      " layer9/depthwise_conv/bn (Batc  (None, None, 4, 512  1536       ['layer9/depthwise_conv[0][0]']  \n",
      " hNormalization)                )                                                                 \n",
      "                                                                                                  \n",
      " layer9/depthwise_conv/relu (Re  (None, None, 4, 512  0          ['layer9/depthwise_conv/bn[0][0]'\n",
      " LU)                            )                                ]                                \n",
      "                                                                                                  \n",
      " layer9/pointwise_conv (Conv2D)  (None, None, 4, 512  262144     ['layer9/depthwise_conv/relu[0][0\n",
      "                                )                                ]']                              \n",
      "                                                                                                  \n",
      " layer9/pointwise_conv/bn (Batc  (None, None, 4, 512  1536       ['layer9/pointwise_conv[0][0]']  \n",
      " hNormalization)                )                                                                 \n",
      "                                                                                                  \n",
      " layer9/pointwise_conv/relu (Re  (None, None, 4, 512  0          ['layer9/pointwise_conv/bn[0][0]'\n",
      " LU)                            )                                ]                                \n",
      "                                                                                                  \n",
      " layer10/depthwise_conv (Depthw  (None, None, 4, 512  4608       ['layer9/pointwise_conv/relu[0][0\n",
      " iseConv2D)                     )                                ]']                              \n",
      "                                                                                                  \n",
      " layer10/depthwise_conv/bn (Bat  (None, None, 4, 512  1536       ['layer10/depthwise_conv[0][0]'] \n",
      " chNormalization)               )                                                                 \n",
      "                                                                                                  \n",
      " layer10/depthwise_conv/relu (R  (None, None, 4, 512  0          ['layer10/depthwise_conv/bn[0][0]\n",
      " eLU)                           )                                ']                               \n",
      "                                                                                                  \n",
      " layer10/pointwise_conv (Conv2D  (None, None, 4, 512  262144     ['layer10/depthwise_conv/relu[0][\n",
      " )                              )                                0]']                             \n",
      "                                                                                                  \n",
      " layer10/pointwise_conv/bn (Bat  (None, None, 4, 512  1536       ['layer10/pointwise_conv[0][0]'] \n",
      " chNormalization)               )                                                                 \n",
      "                                                                                                  \n",
      " layer10/pointwise_conv/relu (R  (None, None, 4, 512  0          ['layer10/pointwise_conv/bn[0][0]\n",
      " eLU)                           )                                ']                               \n",
      "                                                                                                  \n",
      " layer11/depthwise_conv (Depthw  (None, None, 4, 512  4608       ['layer10/pointwise_conv/relu[0][\n",
      " iseConv2D)                     )                                0]']                             \n",
      "                                                                                                  \n",
      " layer11/depthwise_conv/bn (Bat  (None, None, 4, 512  1536       ['layer11/depthwise_conv[0][0]'] \n",
      " chNormalization)               )                                                                 \n",
      "                                                                                                  \n",
      " layer11/depthwise_conv/relu (R  (None, None, 4, 512  0          ['layer11/depthwise_conv/bn[0][0]\n",
      " eLU)                           )                                ']                               \n",
      "                                                                                                  \n",
      " layer11/pointwise_conv (Conv2D  (None, None, 4, 512  262144     ['layer11/depthwise_conv/relu[0][\n",
      " )                              )                                0]']                             \n",
      "                                                                                                  \n",
      " layer11/pointwise_conv/bn (Bat  (None, None, 4, 512  1536       ['layer11/pointwise_conv[0][0]'] \n",
      " chNormalization)               )                                                                 \n",
      "                                                                                                  \n",
      " layer11/pointwise_conv/relu (R  (None, None, 4, 512  0          ['layer11/pointwise_conv/bn[0][0]\n",
      " eLU)                           )                                ']                               \n",
      "                                                                                                  \n",
      " layer12/depthwise_conv (Depthw  (None, None, 4, 512  4608       ['layer11/pointwise_conv/relu[0][\n",
      " iseConv2D)                     )                                0]']                             \n",
      "                                                                                                  \n",
      " layer12/depthwise_conv/bn (Bat  (None, None, 4, 512  1536       ['layer12/depthwise_conv[0][0]'] \n",
      " chNormalization)               )                                                                 \n",
      "                                                                                                  \n",
      " layer12/depthwise_conv/relu (R  (None, None, 4, 512  0          ['layer12/depthwise_conv/bn[0][0]\n",
      " eLU)                           )                                ']                               \n",
      "                                                                                                  \n",
      " layer12/pointwise_conv (Conv2D  (None, None, 4, 512  262144     ['layer12/depthwise_conv/relu[0][\n",
      " )                              )                                0]']                             \n",
      "                                                                                                  \n",
      " layer12/pointwise_conv/bn (Bat  (None, None, 4, 512  1536       ['layer12/pointwise_conv[0][0]'] \n",
      " chNormalization)               )                                                                 \n",
      "                                                                                                  \n",
      " layer12/pointwise_conv/relu (R  (None, None, 4, 512  0          ['layer12/pointwise_conv/bn[0][0]\n",
      " eLU)                           )                                ']                               \n",
      "                                                                                                  \n",
      " layer13/depthwise_conv (Depthw  (None, None, 2, 512  4608       ['layer12/pointwise_conv/relu[0][\n",
      " iseConv2D)                     )                                0]']                             \n",
      "                                                                                                  \n",
      " layer13/depthwise_conv/bn (Bat  (None, None, 2, 512  1536       ['layer13/depthwise_conv[0][0]'] \n",
      " chNormalization)               )                                                                 \n",
      "                                                                                                  \n",
      " layer13/depthwise_conv/relu (R  (None, None, 2, 512  0          ['layer13/depthwise_conv/bn[0][0]\n",
      " eLU)                           )                                ']                               \n",
      "                                                                                                  \n",
      " layer13/pointwise_conv (Conv2D  (None, None, 2, 102  524288     ['layer13/depthwise_conv/relu[0][\n",
      " )                              4)                               0]']                             \n",
      "                                                                                                  \n",
      " layer13/pointwise_conv/bn (Bat  (None, None, 2, 102  3072       ['layer13/pointwise_conv[0][0]'] \n",
      " chNormalization)               4)                                                                \n",
      "                                                                                                  \n",
      " layer13/pointwise_conv/relu (R  (None, None, 2, 102  0          ['layer13/pointwise_conv/bn[0][0]\n",
      " eLU)                           4)                               ']                               \n",
      "                                                                                                  \n",
      " layer14/depthwise_conv (Depthw  (None, None, 2, 102  9216       ['layer13/pointwise_conv/relu[0][\n",
      " iseConv2D)                     4)                               0]']                             \n",
      "                                                                                                  \n",
      " layer14/depthwise_conv/bn (Bat  (None, None, 2, 102  3072       ['layer14/depthwise_conv[0][0]'] \n",
      " chNormalization)               4)                                                                \n",
      "                                                                                                  \n",
      " layer14/depthwise_conv/relu (R  (None, None, 2, 102  0          ['layer14/depthwise_conv/bn[0][0]\n",
      " eLU)                           4)                               ']                               \n",
      "                                                                                                  \n",
      " layer14/pointwise_conv (Conv2D  (None, None, 2, 102  1048576    ['layer14/depthwise_conv/relu[0][\n",
      " )                              4)                               0]']                             \n",
      "                                                                                                  \n",
      " layer14/pointwise_conv/bn (Bat  (None, None, 2, 102  3072       ['layer14/pointwise_conv[0][0]'] \n",
      " chNormalization)               4)                                                                \n",
      "                                                                                                  \n",
      " layer14/pointwise_conv/relu (R  (None, None, 2, 102  0          ['layer14/pointwise_conv/bn[0][0]\n",
      " eLU)                           4)                               ']                               \n",
      "                                                                                                  \n",
      " embedding_output (GlobalAverag  (None, 1024)        0           ['layer14/pointwise_conv/relu[0][\n",
      " ePooling2D)                                                     0]']                             \n",
      "                                                                                                  \n",
      " emotion_recognition_model (Fun  [(None, 7),         132232      ['embedding_output[0][0]']       \n",
      " ctional)                        (None, 1)]                                                       \n",
      "                                                                                                  \n",
      "==================================================================================================\n",
      "Total params: 3,349,576\n",
      "Trainable params: 132,232\n",
      "Non-trainable params: 3,217,344\n",
      "__________________________________________________________________________________________________\n"
     ]
    }
   ],
   "source": [
    "model.summary()"
   ]
  },
  {
   "cell_type": "code",
   "execution_count": 17,
   "metadata": {},
   "outputs": [
    {
     "name": "stdout",
     "output_type": "stream",
     "text": [
      "Epoch 1/5\n"
     ]
    },
    {
     "ename": "KeyboardInterrupt",
     "evalue": "",
     "output_type": "error",
     "traceback": [
      "\u001b[1;31m---------------------------------------------------------------------------\u001b[0m",
      "\u001b[1;31mKeyboardInterrupt\u001b[0m                         Traceback (most recent call last)",
      "Cell \u001b[1;32mIn[17], line 1\u001b[0m\n\u001b[1;32m----> 1\u001b[0m \u001b[43mmodel\u001b[49m\u001b[38;5;241;43m.\u001b[39;49m\u001b[43mfit\u001b[49m\u001b[43m(\u001b[49m\u001b[43mdataset\u001b[49m\u001b[43m,\u001b[49m\u001b[43m \u001b[49m\u001b[43mepochs\u001b[49m\u001b[38;5;241;43m=\u001b[39;49m\u001b[43mepoch\u001b[49m\u001b[43m,\u001b[49m\u001b[43m \u001b[49m\u001b[43mverbose\u001b[49m\u001b[38;5;241;43m=\u001b[39;49m\u001b[38;5;241;43m1\u001b[39;49m\u001b[43m)\u001b[49m\n",
      "File \u001b[1;32mc:\\Users\\jspark\\miniconda3\\envs\\yamnet\\lib\\site-packages\\keras\\utils\\traceback_utils.py:65\u001b[0m, in \u001b[0;36mfilter_traceback.<locals>.error_handler\u001b[1;34m(*args, **kwargs)\u001b[0m\n\u001b[0;32m     63\u001b[0m filtered_tb \u001b[38;5;241m=\u001b[39m \u001b[38;5;28;01mNone\u001b[39;00m\n\u001b[0;32m     64\u001b[0m \u001b[38;5;28;01mtry\u001b[39;00m:\n\u001b[1;32m---> 65\u001b[0m     \u001b[38;5;28;01mreturn\u001b[39;00m fn(\u001b[38;5;241m*\u001b[39margs, \u001b[38;5;241m*\u001b[39m\u001b[38;5;241m*\u001b[39mkwargs)\n\u001b[0;32m     66\u001b[0m \u001b[38;5;28;01mexcept\u001b[39;00m \u001b[38;5;167;01mException\u001b[39;00m \u001b[38;5;28;01mas\u001b[39;00m e:\n\u001b[0;32m     67\u001b[0m     filtered_tb \u001b[38;5;241m=\u001b[39m _process_traceback_frames(e\u001b[38;5;241m.\u001b[39m__traceback__)\n",
      "File \u001b[1;32mc:\\Users\\jspark\\miniconda3\\envs\\yamnet\\lib\\site-packages\\keras\\engine\\training.py:1564\u001b[0m, in \u001b[0;36mModel.fit\u001b[1;34m(self, x, y, batch_size, epochs, verbose, callbacks, validation_split, validation_data, shuffle, class_weight, sample_weight, initial_epoch, steps_per_epoch, validation_steps, validation_batch_size, validation_freq, max_queue_size, workers, use_multiprocessing)\u001b[0m\n\u001b[0;32m   1556\u001b[0m \u001b[38;5;28;01mwith\u001b[39;00m tf\u001b[38;5;241m.\u001b[39mprofiler\u001b[38;5;241m.\u001b[39mexperimental\u001b[38;5;241m.\u001b[39mTrace(\n\u001b[0;32m   1557\u001b[0m     \u001b[38;5;124m\"\u001b[39m\u001b[38;5;124mtrain\u001b[39m\u001b[38;5;124m\"\u001b[39m,\n\u001b[0;32m   1558\u001b[0m     epoch_num\u001b[38;5;241m=\u001b[39mepoch,\n\u001b[1;32m   (...)\u001b[0m\n\u001b[0;32m   1561\u001b[0m     _r\u001b[38;5;241m=\u001b[39m\u001b[38;5;241m1\u001b[39m,\n\u001b[0;32m   1562\u001b[0m ):\n\u001b[0;32m   1563\u001b[0m     callbacks\u001b[38;5;241m.\u001b[39mon_train_batch_begin(step)\n\u001b[1;32m-> 1564\u001b[0m     tmp_logs \u001b[38;5;241m=\u001b[39m \u001b[38;5;28;43mself\u001b[39;49m\u001b[38;5;241;43m.\u001b[39;49m\u001b[43mtrain_function\u001b[49m\u001b[43m(\u001b[49m\u001b[43miterator\u001b[49m\u001b[43m)\u001b[49m\n\u001b[0;32m   1565\u001b[0m     \u001b[38;5;28;01mif\u001b[39;00m data_handler\u001b[38;5;241m.\u001b[39mshould_sync:\n\u001b[0;32m   1566\u001b[0m         context\u001b[38;5;241m.\u001b[39masync_wait()\n",
      "File \u001b[1;32mc:\\Users\\jspark\\miniconda3\\envs\\yamnet\\lib\\site-packages\\keras\\engine\\training.py:1160\u001b[0m, in \u001b[0;36mModel.make_train_function.<locals>.train_function\u001b[1;34m(iterator)\u001b[0m\n\u001b[0;32m   1158\u001b[0m \u001b[38;5;28;01mdef\u001b[39;00m \u001b[38;5;21mtrain_function\u001b[39m(iterator):\n\u001b[0;32m   1159\u001b[0m \u001b[38;5;250m    \u001b[39m\u001b[38;5;124;03m\"\"\"Runs a training execution with a single step.\"\"\"\u001b[39;00m\n\u001b[1;32m-> 1160\u001b[0m     \u001b[38;5;28;01mreturn\u001b[39;00m \u001b[43mstep_function\u001b[49m\u001b[43m(\u001b[49m\u001b[38;5;28;43mself\u001b[39;49m\u001b[43m,\u001b[49m\u001b[43m \u001b[49m\u001b[43miterator\u001b[49m\u001b[43m)\u001b[49m\n",
      "File \u001b[1;32mc:\\Users\\jspark\\miniconda3\\envs\\yamnet\\lib\\site-packages\\keras\\engine\\training.py:1145\u001b[0m, in \u001b[0;36mModel.make_train_function.<locals>.step_function\u001b[1;34m(model, iterator)\u001b[0m\n\u001b[0;32m   1141\u001b[0m \u001b[38;5;28;01mif\u001b[39;00m \u001b[38;5;28mself\u001b[39m\u001b[38;5;241m.\u001b[39m_jit_compile:\n\u001b[0;32m   1142\u001b[0m     run_step \u001b[38;5;241m=\u001b[39m tf\u001b[38;5;241m.\u001b[39mfunction(\n\u001b[0;32m   1143\u001b[0m         run_step, jit_compile\u001b[38;5;241m=\u001b[39m\u001b[38;5;28;01mTrue\u001b[39;00m, reduce_retracing\u001b[38;5;241m=\u001b[39m\u001b[38;5;28;01mTrue\u001b[39;00m\n\u001b[0;32m   1144\u001b[0m     )\n\u001b[1;32m-> 1145\u001b[0m data \u001b[38;5;241m=\u001b[39m \u001b[38;5;28;43mnext\u001b[39;49m\u001b[43m(\u001b[49m\u001b[43miterator\u001b[49m\u001b[43m)\u001b[49m\n\u001b[0;32m   1146\u001b[0m outputs \u001b[38;5;241m=\u001b[39m model\u001b[38;5;241m.\u001b[39mdistribute_strategy\u001b[38;5;241m.\u001b[39mrun(run_step, args\u001b[38;5;241m=\u001b[39m(data,))\n\u001b[0;32m   1147\u001b[0m outputs \u001b[38;5;241m=\u001b[39m reduce_per_replica(\n\u001b[0;32m   1148\u001b[0m     outputs, \u001b[38;5;28mself\u001b[39m\u001b[38;5;241m.\u001b[39mdistribute_strategy, reduction\u001b[38;5;241m=\u001b[39m\u001b[38;5;124m\"\u001b[39m\u001b[38;5;124mfirst\u001b[39m\u001b[38;5;124m\"\u001b[39m\n\u001b[0;32m   1149\u001b[0m )\n",
      "File \u001b[1;32mc:\\Users\\jspark\\miniconda3\\envs\\yamnet\\lib\\site-packages\\tensorflow\\python\\data\\ops\\iterator_ops.py:766\u001b[0m, in \u001b[0;36mOwnedIterator.__next__\u001b[1;34m(self)\u001b[0m\n\u001b[0;32m    764\u001b[0m \u001b[38;5;28;01mdef\u001b[39;00m \u001b[38;5;21m__next__\u001b[39m(\u001b[38;5;28mself\u001b[39m):\n\u001b[0;32m    765\u001b[0m   \u001b[38;5;28;01mtry\u001b[39;00m:\n\u001b[1;32m--> 766\u001b[0m     \u001b[38;5;28;01mreturn\u001b[39;00m \u001b[38;5;28;43mself\u001b[39;49m\u001b[38;5;241;43m.\u001b[39;49m\u001b[43m_next_internal\u001b[49m\u001b[43m(\u001b[49m\u001b[43m)\u001b[49m\n\u001b[0;32m    767\u001b[0m   \u001b[38;5;28;01mexcept\u001b[39;00m errors\u001b[38;5;241m.\u001b[39mOutOfRangeError:\n\u001b[0;32m    768\u001b[0m     \u001b[38;5;28;01mraise\u001b[39;00m \u001b[38;5;167;01mStopIteration\u001b[39;00m\n",
      "File \u001b[1;32mc:\\Users\\jspark\\miniconda3\\envs\\yamnet\\lib\\site-packages\\tensorflow\\python\\data\\ops\\iterator_ops.py:749\u001b[0m, in \u001b[0;36mOwnedIterator._next_internal\u001b[1;34m(self)\u001b[0m\n\u001b[0;32m    746\u001b[0m \u001b[38;5;66;03m# TODO(b/77291417): This runs in sync mode as iterators use an error status\u001b[39;00m\n\u001b[0;32m    747\u001b[0m \u001b[38;5;66;03m# to communicate that there is no more data to iterate over.\u001b[39;00m\n\u001b[0;32m    748\u001b[0m \u001b[38;5;28;01mwith\u001b[39;00m context\u001b[38;5;241m.\u001b[39mexecution_mode(context\u001b[38;5;241m.\u001b[39mSYNC):\n\u001b[1;32m--> 749\u001b[0m   ret \u001b[38;5;241m=\u001b[39m \u001b[43mgen_dataset_ops\u001b[49m\u001b[38;5;241;43m.\u001b[39;49m\u001b[43miterator_get_next\u001b[49m\u001b[43m(\u001b[49m\n\u001b[0;32m    750\u001b[0m \u001b[43m      \u001b[49m\u001b[38;5;28;43mself\u001b[39;49m\u001b[38;5;241;43m.\u001b[39;49m\u001b[43m_iterator_resource\u001b[49m\u001b[43m,\u001b[49m\n\u001b[0;32m    751\u001b[0m \u001b[43m      \u001b[49m\u001b[43moutput_types\u001b[49m\u001b[38;5;241;43m=\u001b[39;49m\u001b[38;5;28;43mself\u001b[39;49m\u001b[38;5;241;43m.\u001b[39;49m\u001b[43m_flat_output_types\u001b[49m\u001b[43m,\u001b[49m\n\u001b[0;32m    752\u001b[0m \u001b[43m      \u001b[49m\u001b[43moutput_shapes\u001b[49m\u001b[38;5;241;43m=\u001b[39;49m\u001b[38;5;28;43mself\u001b[39;49m\u001b[38;5;241;43m.\u001b[39;49m\u001b[43m_flat_output_shapes\u001b[49m\u001b[43m)\u001b[49m\n\u001b[0;32m    754\u001b[0m   \u001b[38;5;28;01mtry\u001b[39;00m:\n\u001b[0;32m    755\u001b[0m     \u001b[38;5;66;03m# Fast path for the case `self._structure` is not a nested structure.\u001b[39;00m\n\u001b[0;32m    756\u001b[0m     \u001b[38;5;28;01mreturn\u001b[39;00m \u001b[38;5;28mself\u001b[39m\u001b[38;5;241m.\u001b[39m_element_spec\u001b[38;5;241m.\u001b[39m_from_compatible_tensor_list(ret)  \u001b[38;5;66;03m# pylint: disable=protected-access\u001b[39;00m\n",
      "File \u001b[1;32mc:\\Users\\jspark\\miniconda3\\envs\\yamnet\\lib\\site-packages\\tensorflow\\python\\ops\\gen_dataset_ops.py:3011\u001b[0m, in \u001b[0;36miterator_get_next\u001b[1;34m(iterator, output_types, output_shapes, name)\u001b[0m\n\u001b[0;32m   3009\u001b[0m \u001b[38;5;28;01mif\u001b[39;00m tld\u001b[38;5;241m.\u001b[39mis_eager:\n\u001b[0;32m   3010\u001b[0m   \u001b[38;5;28;01mtry\u001b[39;00m:\n\u001b[1;32m-> 3011\u001b[0m     _result \u001b[38;5;241m=\u001b[39m \u001b[43mpywrap_tfe\u001b[49m\u001b[38;5;241;43m.\u001b[39;49m\u001b[43mTFE_Py_FastPathExecute\u001b[49m\u001b[43m(\u001b[49m\n\u001b[0;32m   3012\u001b[0m \u001b[43m      \u001b[49m\u001b[43m_ctx\u001b[49m\u001b[43m,\u001b[49m\u001b[43m \u001b[49m\u001b[38;5;124;43m\"\u001b[39;49m\u001b[38;5;124;43mIteratorGetNext\u001b[39;49m\u001b[38;5;124;43m\"\u001b[39;49m\u001b[43m,\u001b[49m\u001b[43m \u001b[49m\u001b[43mname\u001b[49m\u001b[43m,\u001b[49m\u001b[43m \u001b[49m\u001b[43miterator\u001b[49m\u001b[43m,\u001b[49m\u001b[43m \u001b[49m\u001b[38;5;124;43m\"\u001b[39;49m\u001b[38;5;124;43moutput_types\u001b[39;49m\u001b[38;5;124;43m\"\u001b[39;49m\u001b[43m,\u001b[49m\u001b[43m \u001b[49m\u001b[43moutput_types\u001b[49m\u001b[43m,\u001b[49m\n\u001b[0;32m   3013\u001b[0m \u001b[43m      \u001b[49m\u001b[38;5;124;43m\"\u001b[39;49m\u001b[38;5;124;43moutput_shapes\u001b[39;49m\u001b[38;5;124;43m\"\u001b[39;49m\u001b[43m,\u001b[49m\u001b[43m \u001b[49m\u001b[43moutput_shapes\u001b[49m\u001b[43m)\u001b[49m\n\u001b[0;32m   3014\u001b[0m     \u001b[38;5;28;01mreturn\u001b[39;00m _result\n\u001b[0;32m   3015\u001b[0m   \u001b[38;5;28;01mexcept\u001b[39;00m _core\u001b[38;5;241m.\u001b[39m_NotOkStatusException \u001b[38;5;28;01mas\u001b[39;00m e:\n",
      "\u001b[1;31mKeyboardInterrupt\u001b[0m: "
     ]
    }
   ],
   "source": [
    "model.fit(dataset, epochs=epoch, verbose=1)"
   ]
  },
  {
   "cell_type": "code",
   "execution_count": 6,
   "metadata": {},
   "outputs": [
    {
     "ename": "NameError",
     "evalue": "name 'model' is not defined",
     "output_type": "error",
     "traceback": [
      "\u001b[1;31m---------------------------------------------------------------------------\u001b[0m",
      "\u001b[1;31mNameError\u001b[0m                                 Traceback (most recent call last)",
      "Cell \u001b[1;32mIn[6], line 1\u001b[0m\n\u001b[1;32m----> 1\u001b[0m \u001b[43mmodel\u001b[49m\u001b[38;5;241m.\u001b[39msave(\u001b[38;5;124m'\u001b[39m\u001b[38;5;124m10epoch.h5\u001b[39m\u001b[38;5;124m'\u001b[39m)\n",
      "\u001b[1;31mNameError\u001b[0m: name 'model' is not defined"
     ]
    }
   ],
   "source": [
    "model.save('10epoch.h5')"
   ]
  },
  {
   "cell_type": "code",
   "execution_count": 14,
   "metadata": {},
   "outputs": [
    {
     "name": "stdout",
     "output_type": "stream",
     "text": [
      "(<tf.Tensor: shape=(4, 38720), dtype=float32, numpy=\n",
      "array([[-1.4953613e-03, -2.1057129e-03, -2.6245117e-03, ...,\n",
      "         0.0000000e+00,  0.0000000e+00,  0.0000000e+00],\n",
      "       [-7.0190430e-04, -1.6174316e-03, -2.5939941e-03, ...,\n",
      "         0.0000000e+00,  0.0000000e+00,  0.0000000e+00],\n",
      "       [ 9.1552734e-03,  8.7890625e-03,  8.3923340e-03, ...,\n",
      "        -6.1035156e-05, -9.1552734e-05, -6.1035156e-05],\n",
      "       [ 7.2937012e-03,  5.2185059e-03,  3.4790039e-03, ...,\n",
      "         0.0000000e+00,  0.0000000e+00,  0.0000000e+00]], dtype=float32)>, {'emotion_class_output': <tf.Tensor: shape=(4,), dtype=int32, numpy=array([0, 0, 0, 6])>, 'emotion_intensity_output': <tf.Tensor: shape=(4,), dtype=float32, numpy=array([1., 1., 2., 1.], dtype=float32)>})\n",
      "Feature size: 192 bytes\n",
      "Label size: 232 bytes\n"
     ]
    }
   ],
   "source": [
    "for data in dataset.take(1):\n",
    "    feature, label = data\n",
    "    feature_np = feature\n",
    "    label_np = label\n",
    "    \n",
    "    feature_size = sys.getsizeof(feature_np)\n",
    "    label_size = sys.getsizeof(label_np)\n",
    "    print(data)\n",
    "    print(f\"Feature size: {feature_size} bytes\")\n",
    "    print(f\"Label size: {label_size} bytes\")\n",
    "    "
   ]
  },
  {
   "cell_type": "code",
   "execution_count": 15,
   "metadata": {},
   "outputs": [],
   "source": [
    "gpus = tf.config.experimental.list_physical_devices('GPU')\n"
   ]
  },
  {
   "cell_type": "code",
   "execution_count": 18,
   "metadata": {},
   "outputs": [
    {
     "data": {
      "text/plain": [
       "{'current': 3328, 'peak': 3328}"
      ]
     },
     "execution_count": 18,
     "metadata": {},
     "output_type": "execute_result"
    }
   ],
   "source": [
    "\n",
    "memory_info_after = tf.config.experimental.get_memory_info('GPU:0')\n",
    "memory_info_after"
   ]
  },
  {
   "cell_type": "code",
   "execution_count": null,
   "metadata": {},
   "outputs": [],
   "source": []
  }
 ],
 "metadata": {
  "kernelspec": {
   "display_name": "yamnet",
   "language": "python",
   "name": "python3"
  },
  "language_info": {
   "codemirror_mode": {
    "name": "ipython",
    "version": 3
   },
   "file_extension": ".py",
   "mimetype": "text/x-python",
   "name": "python",
   "nbconvert_exporter": "python",
   "pygments_lexer": "ipython3",
   "version": "3.9.20"
  }
 },
 "nbformat": 4,
 "nbformat_minor": 2
}
